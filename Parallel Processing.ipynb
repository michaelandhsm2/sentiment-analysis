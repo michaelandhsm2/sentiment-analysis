{
 "cells": [
  {
   "cell_type": "markdown",
   "metadata": {},
   "source": [
    "# Parallel Processing"
   ]
  },
  {
   "cell_type": "markdown",
   "metadata": {},
   "source": [
    "$ ipcluster start --n=4 --profile='movie-view'"
   ]
  },
  {
   "cell_type": "code",
   "execution_count": 1,
   "metadata": {
    "collapsed": true
   },
   "outputs": [],
   "source": [
    "from ipyparallel import Client\n",
    "rc = Client(profile='movie-view')\n",
    "dview = rc[:] # use all engines"
   ]
  },
  {
   "cell_type": "code",
   "execution_count": 2,
   "metadata": {},
   "outputs": [],
   "source": [
    "# Load the punkt tokenizer\n",
    "import nltk\n",
    "\n",
    "tokenizer = nltk.data.load('tokenizers/punkt/english.pickle')\n",
    "    \n",
    "import pandas as pd\n",
    "\n",
    "header = [\"sentiment\",\"id\",\"time\",\"query\",\"handler\",\"tweet\"]\n",
    "\n",
    "# Read data from files \n",
    "manual = pd.read_csv(\"./data/twitter_manual.csv\", header=None,encoding = \"ISO-8859-1\")\n",
    "full = pd.read_csv(\"./data/twitter_full.csv\", header=None,encoding = \"ISO-8859-1\")\n",
    "\n",
    "manual.columns = header\n",
    "full.columns = header"
   ]
  },
  {
   "cell_type": "code",
   "execution_count": 3,
   "metadata": {},
   "outputs": [
    {
     "name": "stdout",
     "output_type": "stream",
     "text": [
      "Train - 239466; Test - 13687; Rest - 1346847\n"
     ]
    }
   ],
   "source": [
    "# Split list into training and testing\n",
    "import numpy as np\n",
    "\n",
    "msk = np.random.rand(len(full)) < 0.15\n",
    "train = full[msk]\n",
    "rest = full[~msk]\n",
    "\n",
    "msk2 = np.random.rand(len(rest)) < 0.01\n",
    "test = rest[msk2]\n",
    "rest = rest[~msk2]\n",
    "\n",
    "print (\"Train - %d; Test - %d; Rest - %d\" % (len(train), len(test), len(rest)))"
   ]
  },
  {
   "cell_type": "code",
   "execution_count": 4,
   "metadata": {
    "collapsed": true
   },
   "outputs": [],
   "source": [
    "from ipyparallel import require\n",
    "\n",
    "@require('re')\n",
    "def process_tweet( tweet , punctuation=False):\n",
    "    \n",
    "    print(tweet)\n",
    "    #\n",
    "    # 1. Remove @username \n",
    "    tweet = re.sub('@[^\\s]+','',tweet)\n",
    "    #\n",
    "    # 2. Remove www.* or https?://*\n",
    "    tweet = re.sub('((www\\.[\\s]+)|(https?:/?/?[^\\s]+))','',tweet)\n",
    "    #\n",
    "    # 3. Remove 'RT'\n",
    "    tweet = tweet.replace('RT','')\n",
    "    #\n",
    "    # 4. Hashtag remove\n",
    "    tweet = tweet.replace('#','')\n",
    "    #\n",
    "    # 5. Remove commas, ?s, !s, and periods.   \n",
    "    if punctuation:\n",
    "        tweet = tweet.replace('.','')\n",
    "        tweet = tweet.replace(',','')\n",
    "        tweet = tweet.replace('?','')\n",
    "        tweet = tweet.replace('!','')\n",
    "    #\n",
    "    # 6. Convert to lower case, split into individual words\n",
    "    words = tweet.lower().split()    \n",
    "    #\n",
    "    # 7. Join the words back into one string separated by space, \n",
    "    # and return the result.\n",
    "    return( words)   "
   ]
  },
  {
   "cell_type": "code",
   "execution_count": 5,
   "metadata": {
    "collapsed": true
   },
   "outputs": [],
   "source": [
    "@require('numpy')\n",
    "def create_bag_of_centroids( wordlist ):\n",
    "    #\n",
    "    # The number of clusters is equal to the highest cluster index\n",
    "    # in the word / centroid map\n",
    "    num_centroids = max( word_centroid_map.values() ) + 1\n",
    "    #\n",
    "    # Pre-allocate the bag of centroids vector (for speed)\n",
    "    bag_of_centroids = numpy.zeros( num_centroids, dtype=\"float32\" )\n",
    "    #\n",
    "    # Loop over the words in the review. If the word is in the vocabulary,\n",
    "    # find which cluster it belongs to, and increment that cluster count \n",
    "    # by one\n",
    "    for word in wordlist:\n",
    "        if word in word_centroid_map:\n",
    "            index = word_centroid_map[word]\n",
    "            bag_of_centroids[index] += 1\n",
    "    #\n",
    "    # Return the \"bag of centroids\"\n",
    "    return bag_of_centroids"
   ]
  },
  {
   "cell_type": "code",
   "execution_count": 6,
   "metadata": {},
   "outputs": [
    {
     "data": {
      "text/plain": [
       "<AsyncResult: _push>"
      ]
     },
     "execution_count": 6,
     "metadata": {},
     "output_type": "execute_result"
    }
   ],
   "source": [
    "import _pickle as pickle\n",
    "\n",
    "def save_obj(obj, name ):\n",
    "    with open('./output/'+ name + '.pkl', 'wb') as f:\n",
    "        pickle.dump(obj, f)\n",
    "\n",
    "def load_obj(name ):\n",
    "    with open('./output/'+ name + '.pkl', 'rb') as f:\n",
    "        return pickle.load(f)\n",
    "word_centroid_map = load_obj(\"twitter_word_centroid_map\") \n",
    "dview.push(dict(word_centroid_map=word_centroid_map)) # send bar"
   ]
  },
  {
   "cell_type": "code",
   "execution_count": 7,
   "metadata": {},
   "outputs": [
    {
     "name": "stdout",
     "output_type": "stream",
     "text": [
      "Starting\n",
      "half done\n"
     ]
    }
   ],
   "source": [
    "# Pre-allocate an array for the training set bags of centroids (for speed)\n",
    "print(\"Starting\")\n",
    "train_centroids = np.zeros( (train[\"tweet\"].size, 1837), \\\n",
    "    dtype=\"float32\" )\n",
    "print(\"half done\")\n",
    "list_of_true = [True] * train[\"tweet\"].size"
   ]
  },
  {
   "cell_type": "code",
   "execution_count": 8,
   "metadata": {},
   "outputs": [
    {
     "name": "stdout",
     "output_type": "stream",
     "text": [
      "starting\n",
      "half done\n",
      "CPU times: user 5.78 s, sys: 2.47 s, total: 8.25 s\n",
      "Wall time: 2h 14min 50s\n"
     ]
    }
   ],
   "source": [
    "%%time\n",
    "print(\"starting\")\n",
    "half  = dview.map_sync(process_tweet, train[\"tweet\"].tolist(), list_of_true )\n",
    "\n",
    "print(\"half done\")\n",
    "train_centroids  = dview.map_sync(create_bag_of_centroids, half )"
   ]
  },
  {
   "cell_type": "code",
   "execution_count": null,
   "metadata": {},
   "outputs": [
    {
     "name": "stdout",
     "output_type": "stream",
     "text": [
      "Fitting a random forest to labeled training data...\n"
     ]
    }
   ],
   "source": [
    "%%time\n",
    "from sklearn.ensemble import RandomForestClassifier\n",
    "\n",
    "# Fit a random forest and extract predictions \n",
    "forest = RandomForestClassifier(n_estimators = 200, n_jobs=-1)\n",
    "\n",
    "# Fitting the forest may take a few minutes\n",
    "print (\"Fitting a random forest to labeled training data...\")\n",
    "forest = forest.fit(train_centroids,train[\"sentiment\"])\n",
    "\n",
    "print (\"Saveing Forest as file...\")\n",
    "save_obj(forest,\"twitter_forest_parallel\")"
   ]
  },
  {
   "cell_type": "code",
   "execution_count": null,
   "metadata": {
    "collapsed": true
   },
   "outputs": [],
   "source": []
  }
 ],
 "metadata": {
  "kernelspec": {
   "display_name": "Python 3",
   "language": "python",
   "name": "python3"
  },
  "language_info": {
   "codemirror_mode": {
    "name": "ipython",
    "version": 3
   },
   "file_extension": ".py",
   "mimetype": "text/x-python",
   "name": "python",
   "nbconvert_exporter": "python",
   "pygments_lexer": "ipython3",
   "version": "3.6.1"
  }
 },
 "nbformat": 4,
 "nbformat_minor": 2
}
